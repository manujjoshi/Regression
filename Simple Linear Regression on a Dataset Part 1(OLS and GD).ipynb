{
 "cells": [
  {
   "cell_type": "markdown",
   "id": "275fe456",
   "metadata": {},
   "source": [
    "# `Linear Regression on a Dataset`"
   ]
  },
  {
   "cell_type": "code",
   "execution_count": 1,
   "id": "ef370506",
   "metadata": {},
   "outputs": [],
   "source": [
    "import numpy as np\n",
    "import pandas as pd\n",
    "import matplotlib.pyplot as plt\n",
    "import seaborn as sns\n",
    "import warnings\n",
    "warnings.filterwarnings('ignore')"
   ]
  },
  {
   "cell_type": "markdown",
   "id": "e8b95396",
   "metadata": {},
   "source": [
    "## `Example 1` :\n",
    "\n",
    "----------------"
   ]
  },
  {
   "cell_type": "code",
   "execution_count": 3,
   "id": "3d376173",
   "metadata": {},
   "outputs": [],
   "source": [
    "data = pd.read_csv(\"Crude_Indigo.csv\")"
   ]
  },
  {
   "cell_type": "code",
   "execution_count": 4,
   "id": "4ce6997c",
   "metadata": {},
   "outputs": [
    {
     "data": {
      "text/html": [
       "<div>\n",
       "<style scoped>\n",
       "    .dataframe tbody tr th:only-of-type {\n",
       "        vertical-align: middle;\n",
       "    }\n",
       "\n",
       "    .dataframe tbody tr th {\n",
       "        vertical-align: top;\n",
       "    }\n",
       "\n",
       "    .dataframe thead th {\n",
       "        text-align: right;\n",
       "    }\n",
       "</style>\n",
       "<table border=\"1\" class=\"dataframe\">\n",
       "  <thead>\n",
       "    <tr style=\"text-align: right;\">\n",
       "      <th></th>\n",
       "      <th>Crude</th>\n",
       "      <th>Indigo</th>\n",
       "    </tr>\n",
       "  </thead>\n",
       "  <tbody>\n",
       "    <tr>\n",
       "      <th>0</th>\n",
       "      <td>74.96</td>\n",
       "      <td>724.45</td>\n",
       "    </tr>\n",
       "    <tr>\n",
       "      <th>1</th>\n",
       "      <td>73.17</td>\n",
       "      <td>744.45</td>\n",
       "    </tr>\n",
       "    <tr>\n",
       "      <th>2</th>\n",
       "      <td>70.97</td>\n",
       "      <td>760.80</td>\n",
       "    </tr>\n",
       "    <tr>\n",
       "      <th>3</th>\n",
       "      <td>71.78</td>\n",
       "      <td>808.55</td>\n",
       "    </tr>\n",
       "    <tr>\n",
       "      <th>4</th>\n",
       "      <td>72.11</td>\n",
       "      <td>822.30</td>\n",
       "    </tr>\n",
       "  </tbody>\n",
       "</table>\n",
       "</div>"
      ],
      "text/plain": [
       "   Crude  Indigo\n",
       "0  74.96  724.45\n",
       "1  73.17  744.45\n",
       "2  70.97  760.80\n",
       "3  71.78  808.55\n",
       "4  72.11  822.30"
      ]
     },
     "execution_count": 4,
     "metadata": {},
     "output_type": "execute_result"
    }
   ],
   "source": [
    "data.head()"
   ]
  },
  {
   "cell_type": "code",
   "execution_count": 5,
   "id": "4318c229",
   "metadata": {},
   "outputs": [
    {
     "name": "stdout",
     "output_type": "stream",
     "text": [
      "<class 'pandas.core.frame.DataFrame'>\n",
      "RangeIndex: 53 entries, 0 to 52\n",
      "Data columns (total 2 columns):\n",
      " #   Column  Non-Null Count  Dtype  \n",
      "---  ------  --------------  -----  \n",
      " 0   Crude   53 non-null     float64\n",
      " 1   Indigo  53 non-null     float64\n",
      "dtypes: float64(2)\n",
      "memory usage: 976.0 bytes\n"
     ]
    }
   ],
   "source": [
    "data.info()"
   ]
  },
  {
   "cell_type": "markdown",
   "id": "da01f2e0",
   "metadata": {},
   "source": [
    "### `Crude`"
   ]
  },
  {
   "cell_type": "code",
   "execution_count": 6,
   "id": "8baeece1",
   "metadata": {},
   "outputs": [
    {
     "data": {
      "text/plain": [
       "<AxesSubplot:xlabel='Crude', ylabel='Density'>"
      ]
     },
     "execution_count": 6,
     "metadata": {},
     "output_type": "execute_result"
    },
    {
     "data": {
      "image/png": "[encoded data removed]",
      "text/plain": [
       "<Figure size 432x288 with 1 Axes>"
      ]
     },
     "metadata": {
      "needs_background": "light"
     },
     "output_type": "display_data"
    }
   ],
   "source": [
    "sns.distplot(data[\"Crude\"])"
   ]
  },
  {
   "cell_type": "code",
   "execution_count": 7,
   "id": "c542fe94",
   "metadata": {},
   "outputs": [
    {
     "data": {
      "text/plain": [
       "<AxesSubplot:xlabel='Crude'>"
      ]
     },
     "execution_count": 7,
     "metadata": {},
     "output_type": "execute_result"
    },
    {
     "data": {
      "image/png": "[encoded data removed]",
      "text/plain": [
       "<Figure size 432x288 with 1 Axes>"
      ]
     },
     "metadata": {
      "needs_background": "light"
     },
     "output_type": "display_data"
    }
   ],
   "source": [
    "sns.boxplot(data[\"Crude\"])"
   ]
  },
  {
   "cell_type": "markdown",
   "id": "dc59a336",
   "metadata": {},
   "source": [
    "### `Indigo`"
   ]
  },
  {
   "cell_type": "code",
   "execution_count": 8,
   "id": "a09d8306",
   "metadata": {},
   "outputs": [
    {
     "data": {
      "text/plain": [
       "<AxesSubplot:xlabel='Indigo', ylabel='Density'>"
      ]
     },
     "execution_count": 8,
     "metadata": {},
     "output_type": "execute_result"
    },
    {
     "data": {
      "image/png": "[encoded data removed]",
      "text/plain": [
       "<Figure size 432x288 with 1 Axes>"
      ]
     },
     "metadata": {
      "needs_background": "light"
     },
     "output_type": "display_data"
    }
   ],
   "source": [
    "sns.distplot(data[\"Indigo\"])"
   ]
  },
  {
   "cell_type": "code",
   "execution_count": 9,
   "id": "7427b85e",
   "metadata": {},
   "outputs": [
    {
     "data": {
      "text/plain": [
       "<AxesSubplot:xlabel='Indigo'>"
      ]
     },
     "execution_count": 9,
     "metadata": {},
     "output_type": "execute_result"
    },
    {
     "data": {
      "image/png": "[encoded data removed]",
      "text/plain": [
       "<Figure size 432x288 with 1 Axes>"
      ]
     },
     "metadata": {
      "needs_background": "light"
     },
     "output_type": "display_data"
    }
   ],
   "source": [
    "sns.boxplot(data[\"Indigo\"])"
   ]
  },
  {
   "cell_type": "markdown",
   "id": "9dd84fb0",
   "metadata": {},
   "source": [
    "### `covariance`\n",
    "\n",
    "> **A covariance matrix is used to study the direction of the linear relationship between variables. Suppose we have two variables X and Y, then the covariance between these two variables is represented as cov(X,Y)**\n",
    "\n",
    "![](https://lh6.googleusercontent.com/RgC5ARNcZD9GkvbN9hAEMN6ECfya4exVW01rUy_Zi_k6pdGenwzREMjU-tqQGpJbSRSoJBMf7UGDYqlOj9gOsXz15s9HP3uomgiTFbsa0mXTkVEmT3i-OmW5f64wLCw704FITGoqpRp9q_u3GQ)\n",
    "![](https://www.simplilearn.com/ice9/free_resources_article_thumb/covx-y.jpg)"
   ]
  },
  {
   "cell_type": "code",
   "execution_count": 10,
   "id": "9acc65dd",
   "metadata": {},
   "outputs": [
    {
     "data": {
      "text/html": [
       "<div>\n",
       "<style scoped>\n",
       "    .dataframe tbody tr th:only-of-type {\n",
       "        vertical-align: middle;\n",
       "    }\n",
       "\n",
       "    .dataframe tbody tr th {\n",
       "        vertical-align: top;\n",
       "    }\n",
       "\n",
       "    .dataframe thead th {\n",
       "        text-align: right;\n",
       "    }\n",
       "</style>\n",
       "<table border=\"1\" class=\"dataframe\">\n",
       "  <thead>\n",
       "    <tr style=\"text-align: right;\">\n",
       "      <th></th>\n",
       "      <th>Crude</th>\n",
       "      <th>Indigo</th>\n",
       "    </tr>\n",
       "  </thead>\n",
       "  <tbody>\n",
       "    <tr>\n",
       "      <th>Crude</th>\n",
       "      <td>73.919548</td>\n",
       "      <td>-917.805616</td>\n",
       "    </tr>\n",
       "    <tr>\n",
       "      <th>Indigo</th>\n",
       "      <td>-917.805616</td>\n",
       "      <td>12690.404109</td>\n",
       "    </tr>\n",
       "  </tbody>\n",
       "</table>\n",
       "</div>"
      ],
      "text/plain": [
       "             Crude        Indigo\n",
       "Crude    73.919548   -917.805616\n",
       "Indigo -917.805616  12690.404109"
      ]
     },
     "execution_count": 10,
     "metadata": {},
     "output_type": "execute_result"
    }
   ],
   "source": [
    "data.cov()"
   ]
  },
  {
   "cell_type": "markdown",
   "id": "5b1f5921",
   "metadata": {},
   "source": [
    "### `correlation`\n",
    ">  **A correlation matrix is used to study the strength of a relationship between two variables. It not only shows the direction of the relationship, but also shows how strong the relationship is.**\n",
    "![](https://lh6.googleusercontent.com/wia1VGoOCHj-XT7_DlcG9n-VZ_vs-SWx8PCSVXtdC6tlMHzWg5de2U_Lo9mdBYh3S2hevX1Ue7lO1Wc59Ud9BuG80vLW09obW4WAKr4svRYnr55BP2w4Ev-IWusYuJKhN1aZoT_qIaUgl9WEFQ)"
   ]
  },
  {
   "cell_type": "code",
   "execution_count": 11,
   "id": "41f66621",
   "metadata": {},
   "outputs": [
    {
     "data": {
      "text/html": [
       "<div>\n",
       "<style scoped>\n",
       "    .dataframe tbody tr th:only-of-type {\n",
       "        vertical-align: middle;\n",
       "    }\n",
       "\n",
       "    .dataframe tbody tr th {\n",
       "        vertical-align: top;\n",
       "    }\n",
       "\n",
       "    .dataframe thead th {\n",
       "        text-align: right;\n",
       "    }\n",
       "</style>\n",
       "<table border=\"1\" class=\"dataframe\">\n",
       "  <thead>\n",
       "    <tr style=\"text-align: right;\">\n",
       "      <th></th>\n",
       "      <th>Crude</th>\n",
       "      <th>Indigo</th>\n",
       "    </tr>\n",
       "  </thead>\n",
       "  <tbody>\n",
       "    <tr>\n",
       "      <th>Crude</th>\n",
       "      <td>1.000000</td>\n",
       "      <td>-0.947618</td>\n",
       "    </tr>\n",
       "    <tr>\n",
       "      <th>Indigo</th>\n",
       "      <td>-0.947618</td>\n",
       "      <td>1.000000</td>\n",
       "    </tr>\n",
       "  </tbody>\n",
       "</table>\n",
       "</div>"
      ],
      "text/plain": [
       "           Crude    Indigo\n",
       "Crude   1.000000 -0.947618\n",
       "Indigo -0.947618  1.000000"
      ]
     },
     "execution_count": 11,
     "metadata": {},
     "output_type": "execute_result"
    }
   ],
   "source": [
    "data.corr()"
   ]
  },
  {
   "cell_type": "code",
   "execution_count": 12,
   "id": "7089ae6b",
   "metadata": {},
   "outputs": [
    {
     "data": {
      "text/plain": [
       "<seaborn.axisgrid.JointGrid at 0x2bab39c38e0>"
      ]
     },
     "execution_count": 12,
     "metadata": {},
     "output_type": "execute_result"
    },
    {
     "data": {
      "image/png": "[encoded data removed]",
      "text/plain": [
       "<Figure size 432x432 with 3 Axes>"
      ]
     },
     "metadata": {
      "needs_background": "light"
     },
     "output_type": "display_data"
    }
   ],
   "source": [
    "sns.jointplot(data[\"Crude\"],data[\"Indigo\"])"
   ]
  },
  {
   "cell_type": "markdown",
   "id": "e2ab15df",
   "metadata": {},
   "source": [
    "## 1. `Regression using statsmodel` :"
   ]
  },
  {
   "cell_type": "code",
   "execution_count": 13,
   "id": "cca60507",
   "metadata": {},
   "outputs": [],
   "source": [
    "X = data[\"Crude\"]\n",
    "y = data[\"Indigo\"]"
   ]
  },
  {
   "cell_type": "code",
   "execution_count": 14,
   "id": "1feaf702",
   "metadata": {},
   "outputs": [],
   "source": [
    "import statsmodels.api as sm"
   ]
  },
  {
   "cell_type": "code",
   "execution_count": 15,
   "id": "722c0e08",
   "metadata": {},
   "outputs": [
    {
     "data": {
      "text/plain": [
       "0    74.96\n",
       "1    73.17\n",
       "2    70.97\n",
       "3    71.78\n",
       "4    72.11\n",
       "Name: Crude, dtype: float64"
      ]
     },
     "execution_count": 15,
     "metadata": {},
     "output_type": "execute_result"
    }
   ],
   "source": [
    "X.head()"
   ]
  },
  {
   "cell_type": "code",
   "execution_count": 16,
   "id": "98ff29bc",
   "metadata": {},
   "outputs": [
    {
     "data": {
      "text/html": [
       "<div>\n",
       "<style scoped>\n",
       "    .dataframe tbody tr th:only-of-type {\n",
       "        vertical-align: middle;\n",
       "    }\n",
       "\n",
       "    .dataframe tbody tr th {\n",
       "        vertical-align: top;\n",
       "    }\n",
       "\n",
       "    .dataframe thead th {\n",
       "        text-align: right;\n",
       "    }\n",
       "</style>\n",
       "<table border=\"1\" class=\"dataframe\">\n",
       "  <thead>\n",
       "    <tr style=\"text-align: right;\">\n",
       "      <th></th>\n",
       "      <th>const</th>\n",
       "      <th>Crude</th>\n",
       "    </tr>\n",
       "  </thead>\n",
       "  <tbody>\n",
       "    <tr>\n",
       "      <th>0</th>\n",
       "      <td>1.0</td>\n",
       "      <td>74.96</td>\n",
       "    </tr>\n",
       "    <tr>\n",
       "      <th>1</th>\n",
       "      <td>1.0</td>\n",
       "      <td>73.17</td>\n",
       "    </tr>\n",
       "    <tr>\n",
       "      <th>2</th>\n",
       "      <td>1.0</td>\n",
       "      <td>70.97</td>\n",
       "    </tr>\n",
       "    <tr>\n",
       "      <th>3</th>\n",
       "      <td>1.0</td>\n",
       "      <td>71.78</td>\n",
       "    </tr>\n",
       "    <tr>\n",
       "      <th>4</th>\n",
       "      <td>1.0</td>\n",
       "      <td>72.11</td>\n",
       "    </tr>\n",
       "  </tbody>\n",
       "</table>\n",
       "</div>"
      ],
      "text/plain": [
       "   const  Crude\n",
       "0    1.0  74.96\n",
       "1    1.0  73.17\n",
       "2    1.0  70.97\n",
       "3    1.0  71.78\n",
       "4    1.0  72.11"
      ]
     },
     "execution_count": 16,
     "metadata": {},
     "output_type": "execute_result"
    }
   ],
   "source": [
    "X = sm.add_constant(X)   # adding x0 = 1 assumption\n",
    "X.head()"
   ]
  },
  {
   "cell_type": "code",
   "execution_count": 17,
   "id": "815a0001",
   "metadata": {},
   "outputs": [],
   "source": [
    "ols = sm.OLS(y,X)\n",
    "ols = ols.fit()"
   ]
  },
  {
   "cell_type": "code",
   "execution_count": 18,
   "id": "828ad85c",
   "metadata": {},
   "outputs": [
    {
     "data": {
      "text/html": [
       "<table class=\"simpletable\">\n",
       "<caption>OLS Regression Results</caption>\n",
       "<tr>\n",
       "  <th>Dep. Variable:</th>         <td>Indigo</td>      <th>  R-squared:         </th> <td>   0.898</td>\n",
       "</tr>\n",
       "<tr>\n",
       "  <th>Model:</th>                   <td>OLS</td>       <th>  Adj. R-squared:    </th> <td>   0.896</td>\n",
       "</tr>\n",
       "<tr>\n",
       "  <th>Method:</th>             <td>Least Squares</td>  <th>  F-statistic:       </th> <td>   448.9</td>\n",
       "</tr>\n",
       "<tr>\n",
       "  <th>Date:</th>             <td>Fri, 18 Feb 2022</td> <th>  Prob (F-statistic):</th> <td>6.17e-27</td>\n",
       "</tr>\n",
       "<tr>\n",
       "  <th>Time:</th>                 <td>08:53:26</td>     <th>  Log-Likelihood:    </th> <td> -264.60</td>\n",
       "</tr>\n",
       "<tr>\n",
       "  <th>No. Observations:</th>      <td>    53</td>      <th>  AIC:               </th> <td>   533.2</td>\n",
       "</tr>\n",
       "<tr>\n",
       "  <th>Df Residuals:</th>          <td>    51</td>      <th>  BIC:               </th> <td>   537.1</td>\n",
       "</tr>\n",
       "<tr>\n",
       "  <th>Df Model:</th>              <td>     1</td>      <th>                     </th>     <td> </td>   \n",
       "</tr>\n",
       "<tr>\n",
       "  <th>Covariance Type:</th>      <td>nonrobust</td>    <th>                     </th>     <td> </td>   \n",
       "</tr>\n",
       "</table>\n",
       "<table class=\"simpletable\">\n",
       "<tr>\n",
       "    <td></td>       <th>coef</th>     <th>std err</th>      <th>t</th>      <th>P>|t|</th>  <th>[0.025</th>    <th>0.975]</th>  \n",
       "</tr>\n",
       "<tr>\n",
       "  <th>const</th> <td> 1695.8076</td> <td>   34.502</td> <td>   49.151</td> <td> 0.000</td> <td> 1626.542</td> <td> 1765.073</td>\n",
       "</tr>\n",
       "<tr>\n",
       "  <th>Crude</th> <td>  -12.4163</td> <td>    0.586</td> <td>  -21.187</td> <td> 0.000</td> <td>  -13.593</td> <td>  -11.240</td>\n",
       "</tr>\n",
       "</table>\n",
       "<table class=\"simpletable\">\n",
       "<tr>\n",
       "  <th>Omnibus:</th>       <td> 6.559</td> <th>  Durbin-Watson:     </th> <td>   0.715</td>\n",
       "</tr>\n",
       "<tr>\n",
       "  <th>Prob(Omnibus):</th> <td> 0.038</td> <th>  Jarque-Bera (JB):  </th> <td>   2.376</td>\n",
       "</tr>\n",
       "<tr>\n",
       "  <th>Skew:</th>          <td>-0.062</td> <th>  Prob(JB):          </th> <td>   0.305</td>\n",
       "</tr>\n",
       "<tr>\n",
       "  <th>Kurtosis:</th>      <td> 1.970</td> <th>  Cond. No.          </th> <td>    407.</td>\n",
       "</tr>\n",
       "</table><br/><br/>Notes:<br/>[1] Standard Errors assume that the covariance matrix of the errors is correctly specified."
      ],
      "text/plain": [
       "<class 'statsmodels.iolib.summary.Summary'>\n",
       "\"\"\"\n",
       "                            OLS Regression Results                            \n",
       "==============================================================================\n",
       "Dep. Variable:                 Indigo   R-squared:                       0.898\n",
       "Model:                            OLS   Adj. R-squared:                  0.896\n",
       "Method:                 Least Squares   F-statistic:                     448.9\n",
       "Date:                Fri, 18 Feb 2022   Prob (F-statistic):           6.17e-27\n",
       "Time:                        08:53:26   Log-Likelihood:                -264.60\n",
       "No. Observations:                  53   AIC:                             533.2\n",
       "Df Residuals:                      51   BIC:                             537.1\n",
       "Df Model:                           1                                         \n",
       "Covariance Type:            nonrobust                                         \n",
       "==============================================================================\n",
       "                 coef    std err          t      P>|t|      [0.025      0.975]\n",
       "------------------------------------------------------------------------------\n",
       "const       1695.8076     34.502     49.151      0.000    1626.542    1765.073\n",
       "Crude        -12.4163      0.586    -21.187      0.000     -13.593     -11.240\n",
       "==============================================================================\n",
       "Omnibus:                        6.559   Durbin-Watson:                   0.715\n",
       "Prob(Omnibus):                  0.038   Jarque-Bera (JB):                2.376\n",
       "Skew:                          -0.062   Prob(JB):                        0.305\n",
       "Kurtosis:                       1.970   Cond. No.                         407.\n",
       "==============================================================================\n",
       "\n",
       "Notes:\n",
       "[1] Standard Errors assume that the covariance matrix of the errors is correctly specified.\n",
       "\"\"\""
      ]
     },
     "execution_count": 18,
     "metadata": {},
     "output_type": "execute_result"
    }
   ],
   "source": [
    "ols.summary()"
   ]
  },
  {
   "cell_type": "markdown",
   "id": "5682d059",
   "metadata": {},
   "source": [
    "### `f-statistic (manually)`\n",
    "\n",
    "> **H0**: variables added does not have relation with y, x0 alone is related\n",
    "\n",
    "> **H1**: variables added does have relation with y, x0,x1,x2...xn are related\n",
    "\n",
    "> **f-statistic captures deviation between prediction and mean, consider all variables**\n",
    "\n",
    "[Click here for reference](https://www.cnblogs.com/fangwenyu/p/4230337.html)"
   ]
  },
  {
   "cell_type": "code",
   "execution_count": 20,
   "id": "0a9846ff",
   "metadata": {},
   "outputs": [
    {
     "name": "stdout",
     "output_type": "stream",
     "text": [
      "SSE = 67323.09978270072\n",
      "SSR = 592577.9138965431\n"
     ]
    }
   ],
   "source": [
    "#################################  SSR  #####################################\n",
    "y_predict = ols.predict(X)\n",
    "\n",
    "sum1 = 0\n",
    "for i in y_predict:\n",
    "    sum1 = sum1 + (i - y.mean()) ** 2\n",
    "SSR = sum1\n",
    "\n",
    "\n",
    "################################ SSE ##########################################\n",
    "sum2 = 0\n",
    "for i in range(len(y)):\n",
    "    sum2 = sum2 + (y[i] - y_predict[i]) ** 2   \n",
    "SSE = sum2\n",
    "\n",
    "print(f'SSE = {SSE}')\n",
    "print(f'SSR = {SSR}')"
   ]
  },
  {
   "cell_type": "markdown",
   "id": "87be7b68",
   "metadata": {},
   "source": [
    "## `F_statistic = MSR/MSE`"
   ]
  },
  {
   "cell_type": "code",
   "execution_count": 21,
   "id": "9ebec56e",
   "metadata": {},
   "outputs": [
    {
     "name": "stdout",
     "output_type": "stream",
     "text": [
      "MSE = 1320.0607800529554\n",
      "MSR = 592577.9138965431\n",
      "F_statistic : 448.9019921285528\n"
     ]
    }
   ],
   "source": [
    "df_numerator = len(data.columns) - 1\n",
    "df_denominator = (len(y) - (len(data.columns) - 1) - 1 )\n",
    "MSR = SSR / df_numerator  #  k =indepndent variables\n",
    "MSE = SSE / df_denominator  # n - k - 1\n",
    "print(f'MSE = {MSE}')\n",
    "print(f'MSR = {MSR}')\n",
    "F_statistic = MSR / MSE\n",
    "print('F_statistic :',F_statistic)"
   ]
  },
  {
   "cell_type": "markdown",
   "id": "4ea785d2",
   "metadata": {},
   "source": [
    "### `t-statistic  is  coef / std err`\n",
    "\n",
    "> consider single variable at a time.\n",
    "\n",
    "> **H0**: x1 do not have relation with y.\n",
    "\n",
    "> **H1**: x1 have relation with y.\n"
   ]
  },
  {
   "cell_type": "code",
   "execution_count": 25,
   "id": "1c1890d0",
   "metadata": {},
   "outputs": [
    {
     "data": {
      "text/plain": [
       "-21.188225255972696"
      ]
     },
     "execution_count": 25,
     "metadata": {},
     "output_type": "execute_result"
    }
   ],
   "source": [
    "t_crude = -12.4163/0.586    \n",
    "t_crude"
   ]
  },
  {
   "cell_type": "markdown",
   "id": "5cacd9d3",
   "metadata": {},
   "source": [
    "### `prediction`"
   ]
  },
  {
   "cell_type": "code",
   "execution_count": 162,
   "id": "fa0fabde",
   "metadata": {},
   "outputs": [],
   "source": [
    "##y_predict = ols.predict(X)"
   ]
  },
  {
   "cell_type": "code",
   "execution_count": 23,
   "id": "e35aa313",
   "metadata": {},
   "outputs": [],
   "source": [
    "residue = y - y_predict"
   ]
  },
  {
   "cell_type": "code",
   "execution_count": 24,
   "id": "de15414d",
   "metadata": {},
   "outputs": [
    {
     "data": {
      "text/plain": [
       "0    -40.633452\n",
       "1    -42.858589\n",
       "2    -53.824399\n",
       "3      3.982785\n",
       "4     21.830157\n",
       "5     39.477742\n",
       "6     -0.444512\n",
       "7     -5.944512\n",
       "8    -30.473699\n",
       "9    -67.144299\n",
       "10   -49.401950\n",
       "11    21.358583\n",
       "12    13.508583\n",
       "13    20.979631\n",
       "14     8.301632\n",
       "15     3.999471\n",
       "16    20.385101\n",
       "17    63.406149\n",
       "18    56.559498\n",
       "19    32.259011\n",
       "20    31.104221\n",
       "21    43.478131\n",
       "22    -3.100102\n",
       "23   -29.445118\n",
       "24    51.057998\n",
       "25    49.165416\n",
       "26    54.615416\n",
       "27    51.590299\n",
       "28     0.744095\n",
       "29    29.443628\n",
       "30     6.534536\n",
       "31    -6.105204\n",
       "32   -20.024343\n",
       "33   -34.493016\n",
       "34    -8.540134\n",
       "35   -25.196598\n",
       "36   -55.565718\n",
       "37   -38.840834\n",
       "38   -38.310694\n",
       "39   -65.393483\n",
       "40   -21.537252\n",
       "41   -58.027459\n",
       "42   -28.406878\n",
       "43   -36.765017\n",
       "44    17.040260\n",
       "45     1.505797\n",
       "46   -16.383689\n",
       "47   -13.178939\n",
       "48    53.734476\n",
       "49    41.297385\n",
       "50    24.700481\n",
       "51    -6.343328\n",
       "52    34.322736\n",
       "dtype: float64"
      ]
     },
     "execution_count": 24,
     "metadata": {},
     "output_type": "execute_result"
    }
   ],
   "source": [
    "residue"
   ]
  },
  {
   "cell_type": "markdown",
   "id": "b0a84970",
   "metadata": {},
   "source": [
    "## `Assumption : Normality of the residue`"
   ]
  },
  {
   "cell_type": "code",
   "execution_count": 165,
   "id": "4a95c7f8",
   "metadata": {},
   "outputs": [
    {
     "data": {
      "text/plain": [
       "<AxesSubplot:ylabel='Density'>"
      ]
     },
     "execution_count": 165,
     "metadata": {},
     "output_type": "execute_result"
    },
    {
     "data": {
      "image/png": "[encoded data removed]",
      "text/plain": [
       "<Figure size 432x288 with 1 Axes>"
      ]
     },
     "metadata": {
      "needs_background": "light"
     },
     "output_type": "display_data"
    }
   ],
   "source": [
    "sns.distplot(residue)"
   ]
  },
  {
   "cell_type": "markdown",
   "id": "9365ee4f",
   "metadata": {},
   "source": [
    "## 2. `Regression using sklearn `:"
   ]
  },
  {
   "cell_type": "code",
   "execution_count": 26,
   "id": "8a701a53",
   "metadata": {},
   "outputs": [],
   "source": [
    "X = data.Crude.values.reshape(-1,1)\n",
    "y = data.Indigo"
   ]
  },
  {
   "cell_type": "code",
   "execution_count": 28,
   "id": "3953ca33",
   "metadata": {},
   "outputs": [],
   "source": [
    "from sklearn.linear_model import LinearRegression\n",
    "from sklearn.metrics import r2_score, mean_squared_error"
   ]
  },
  {
   "cell_type": "code",
   "execution_count": 29,
   "id": "d75ba5a1",
   "metadata": {},
   "outputs": [
    {
     "data": {
      "text/plain": [
       "LinearRegression()"
      ]
     },
     "execution_count": 29,
     "metadata": {},
     "output_type": "execute_result"
    }
   ],
   "source": [
    "lrmodel = LinearRegression()\n",
    "lrmodel.fit(X,y)"
   ]
  },
  {
   "cell_type": "code",
   "execution_count": 30,
   "id": "c6876378",
   "metadata": {},
   "outputs": [
    {
     "data": {
      "text/plain": [
       "1695.8076051212292"
      ]
     },
     "execution_count": 30,
     "metadata": {},
     "output_type": "execute_result"
    }
   ],
   "source": [
    "lrmodel.intercept_"
   ]
  },
  {
   "cell_type": "code",
   "execution_count": 31,
   "id": "98b6a64b",
   "metadata": {},
   "outputs": [
    {
     "data": {
      "text/plain": [
       "array([-12.41627738])"
      ]
     },
     "execution_count": 31,
     "metadata": {},
     "output_type": "execute_result"
    }
   ],
   "source": [
    "lrmodel.coef_"
   ]
  },
  {
   "cell_type": "code",
   "execution_count": 32,
   "id": "5759929a",
   "metadata": {},
   "outputs": [
    {
     "data": {
      "text/plain": [
       "array([ 765.08345248,  787.308589  ,  814.62439924,  804.56721456,\n",
       "        800.46984303,  829.77225765,  837.5945124 ,  837.5945124 ,\n",
       "        836.97369853,  870.99429856,  866.15195038,  856.5914168 ,\n",
       "        856.5914168 ,  863.42036936,  874.09836791,  884.90052923,\n",
       "        905.01489859,  911.84385115,  912.34050225,  923.39098912,\n",
       "        930.09577891,  948.47186943,  951.70010155, 1004.34511766,\n",
       "        997.39200232,  994.78458407,  994.78458407,  991.05970086,\n",
       "       1032.40590454, 1017.50637168, 1019.86546439, 1054.75520383,\n",
       "       1055.62434325, 1071.39301552, 1056.99013376, 1063.446598  ,\n",
       "       1038.36571769, 1034.64083447, 1039.11069433, 1056.49348267,\n",
       "       1042.587252  , 1062.57745858, 1054.50687828, 1060.71501698,\n",
       "       1042.95974032, 1060.09420311, 1076.48368925, 1121.67893893,\n",
       "       1097.71552358, 1110.75261483, 1129.74951923, 1167.74332802,\n",
       "       1121.92726447])"
      ]
     },
     "execution_count": 32,
     "metadata": {},
     "output_type": "execute_result"
    }
   ],
   "source": [
    "lrmodel.predict(X)"
   ]
  },
  {
   "cell_type": "code",
   "execution_count": 33,
   "id": "2782c3ce",
   "metadata": {},
   "outputs": [
    {
     "data": {
      "image/png": "[encoded data removed]",
      "text/plain": [
       "<Figure size 1200x800 with 1 Axes>"
      ]
     },
     "metadata": {
      "needs_background": "light"
     },
     "output_type": "display_data"
    }
   ],
   "source": [
    "plt.figure(dpi=200)\n",
    "sns.scatterplot(data[\"Crude\"],data[\"Indigo\"],color=\"grey\")\n",
    "sns.lineplot(x=data[\"Crude\"],y=lrmodel.predict(X),color=\"red\")\n",
    "plt.annotate(\"1695.807 - 12.416 * Crude\",(50,1100),size=7,color=\"red\")\n",
    "plt.axhline(data.Indigo.mean(),ls=\"--\",lw=0.5,color=\"green\")\n",
    "plt.axvline(data.Crude.mean(),ls=\"--\",lw=0.5,color=\"green\")\n",
    "plt.show()"
   ]
  },
  {
   "cell_type": "markdown",
   "id": "d4532549",
   "metadata": {},
   "source": [
    "### The point where mean of x and mean of y meet is called `centroid`. all lines will pass from here for sure.\n",
    "# `End -----------------------------`"
   ]
  }
 ],
 "metadata": {
  "kernelspec": {
   "display_name": "Python 3 (ipykernel)",
   "language": "python",
   "name": "python3"
  },
  "language_info": {
   "codemirror_mode": {
    "name": "ipython",
    "version": 3
   },
   "file_extension": ".py",
   "mimetype": "text/x-python",
   "name": "python",
   "nbconvert_exporter": "python",
   "pygments_lexer": "ipython3",
   "version": "3.9.7"
  }
 },
 "nbformat": 4,
 "nbformat_minor": 5
}
