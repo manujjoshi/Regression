{
 "cells": [
  {
   "cell_type": "markdown",
   "id": "1c837666",
   "metadata": {},
   "source": [
    "# `Bias Variance Tradeoff`\n",
    "![](http://scott.fortmann-roe.com/docs/docs/BiasVariance/biasvariance.png)\n",
    "\n",
    "![](https://miro.medium.com/max/544/1*Y-yJiR0FzMgchPA-Fm5c1Q.jpeg)\n",
    "\n",
    "### `Underfitting`: `(high bias, low variance)`, not proper features are selected\n",
    "    train accuracy => low\n",
    "    test accuracy => low\n",
    "    \n",
    "### `General fit`: A data scientist should focus this, `(low bias,low variance)`, limited and more important features\n",
    "    train accuracy => high\n",
    "    test accuracy => high\n",
    "    \n",
    "### `Overfitting`: `(low bias, high variance)`, many features are selected both important and unimportant\n",
    "    train accuracy => high\n",
    "    test accuracy => low\n",
    "    \n",
    "### `Bias`: is called as a error of prediction at training data\n",
    "\n",
    "### `Variance`: high when you have lots of x variables to define and learn about your y variable, complexity of a model\n",
    "\n",
    "## `Methodologies to avoid such scenerios`\n",
    "#### `Underfitting`\n",
    "    1. Train with different algo\n",
    "    2. Add more variables\n",
    "    3. Hyperparameter tuning(grid search)\n",
    "    \n",
    "#### `Overfitting`\n",
    "    1. Cross validation\n",
    "    2. Dimensionality Reduction\n",
    "    3. Regularization(L1 and L2): add penalty to coeff"
   ]
  },
  {
   "cell_type": "markdown",
   "id": "689a486d",
   "metadata": {},
   "source": [
    "# `END -------------------------------------------`"
   ]
  }
 ],
 "metadata": {
  "kernelspec": {
   "display_name": "Python 3 (ipykernel)",
   "language": "python",
   "name": "python3"
  },
  "language_info": {
   "codemirror_mode": {
    "name": "ipython",
    "version": 3
   },
   "file_extension": ".py",
   "mimetype": "text/x-python",
   "name": "python",
   "nbconvert_exporter": "python",
   "pygments_lexer": "ipython3",
   "version": "3.9.7"
  }
 },
 "nbformat": 4,
 "nbformat_minor": 5
}
