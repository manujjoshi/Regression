{
 "cells": [
  {
   "cell_type": "markdown",
   "id": "a7a0336b",
   "metadata": {},
   "source": [
    "# `Multiple Linear regression`\n",
    "\n",
    "> - [Normal Equation](https://www.geeksforgeeks.org/ml-normal-equation-in-linear-regression/)\n",
    "> - [Gradient Descent](https://www.geeksforgeeks.org/gradient-descent-in-linear-regression/)"
   ]
  },
  {
   "cell_type": "code",
   "execution_count": 1,
   "id": "dbfbb210",
   "metadata": {},
   "outputs": [],
   "source": [
    "import pandas as pd\n",
    "import seaborn as sns\n",
    "import matplotlib.pyplot as plt\n",
    "import warnings\n",
    "warnings.filterwarnings('ignore')"
   ]
  },
  {
   "cell_type": "code",
   "execution_count": 2,
   "id": "f7ba5d78",
   "metadata": {},
   "outputs": [],
   "source": [
    "data = pd.read_excel(\"Folds5x2_pp.xlsx\")"
   ]
  },
  {
   "cell_type": "markdown",
   "id": "72d2a9df",
   "metadata": {},
   "source": [
    "## 1. `Multiple Linear Regression - sklearn implementation`"
   ]
  },
  {
   "cell_type": "code",
   "execution_count": 3,
   "id": "f5ec6f93",
   "metadata": {},
   "outputs": [
    {
     "data": {
      "text/html": [
       "<div>\n",
       "<style scoped>\n",
       "    .dataframe tbody tr th:only-of-type {\n",
       "        vertical-align: middle;\n",
       "    }\n",
       "\n",
       "    .dataframe tbody tr th {\n",
       "        vertical-align: top;\n",
       "    }\n",
       "\n",
       "    .dataframe thead th {\n",
       "        text-align: right;\n",
       "    }\n",
       "</style>\n",
       "<table border=\"1\" class=\"dataframe\">\n",
       "  <thead>\n",
       "    <tr style=\"text-align: right;\">\n",
       "      <th></th>\n",
       "      <th>AT</th>\n",
       "      <th>V</th>\n",
       "      <th>AP</th>\n",
       "      <th>RH</th>\n",
       "      <th>PE</th>\n",
       "    </tr>\n",
       "  </thead>\n",
       "  <tbody>\n",
       "    <tr>\n",
       "      <th>AT</th>\n",
       "      <td>1.000000</td>\n",
       "      <td>0.844107</td>\n",
       "      <td>-0.507549</td>\n",
       "      <td>-0.542535</td>\n",
       "      <td>-0.948128</td>\n",
       "    </tr>\n",
       "    <tr>\n",
       "      <th>V</th>\n",
       "      <td>0.844107</td>\n",
       "      <td>1.000000</td>\n",
       "      <td>-0.413502</td>\n",
       "      <td>-0.312187</td>\n",
       "      <td>-0.869780</td>\n",
       "    </tr>\n",
       "    <tr>\n",
       "      <th>AP</th>\n",
       "      <td>-0.507549</td>\n",
       "      <td>-0.413502</td>\n",
       "      <td>1.000000</td>\n",
       "      <td>0.099574</td>\n",
       "      <td>0.518429</td>\n",
       "    </tr>\n",
       "    <tr>\n",
       "      <th>RH</th>\n",
       "      <td>-0.542535</td>\n",
       "      <td>-0.312187</td>\n",
       "      <td>0.099574</td>\n",
       "      <td>1.000000</td>\n",
       "      <td>0.389794</td>\n",
       "    </tr>\n",
       "    <tr>\n",
       "      <th>PE</th>\n",
       "      <td>-0.948128</td>\n",
       "      <td>-0.869780</td>\n",
       "      <td>0.518429</td>\n",
       "      <td>0.389794</td>\n",
       "      <td>1.000000</td>\n",
       "    </tr>\n",
       "  </tbody>\n",
       "</table>\n",
       "</div>"
      ],
      "text/plain": [
       "          AT         V        AP        RH        PE\n",
       "AT  1.000000  0.844107 -0.507549 -0.542535 -0.948128\n",
       "V   0.844107  1.000000 -0.413502 -0.312187 -0.869780\n",
       "AP -0.507549 -0.413502  1.000000  0.099574  0.518429\n",
       "RH -0.542535 -0.312187  0.099574  1.000000  0.389794\n",
       "PE -0.948128 -0.869780  0.518429  0.389794  1.000000"
      ]
     },
     "execution_count": 3,
     "metadata": {},
     "output_type": "execute_result"
    }
   ],
   "source": [
    "data.corr()"
   ]
  },
  {
   "cell_type": "markdown",
   "id": "3007266e",
   "metadata": {},
   "source": [
    "### Due to multi collinearity between AT and V, we choose AT (with higher correlation)\n",
    "### RH do not have any correlation with PE, so I dropped it"
   ]
  },
  {
   "cell_type": "code",
   "execution_count": 4,
   "id": "47c3a166",
   "metadata": {},
   "outputs": [],
   "source": [
    "X = data[[\"AT\",\"AP\"]]\n",
    "y = data[\"PE\"]"
   ]
  },
  {
   "cell_type": "code",
   "execution_count": 5,
   "id": "86595b4f",
   "metadata": {},
   "outputs": [
    {
     "data": {
      "text/plain": [
       "LinearRegression()"
      ]
     },
     "execution_count": 5,
     "metadata": {},
     "output_type": "execute_result"
    }
   ],
   "source": [
    "from sklearn.linear_model import LinearRegression\n",
    "model = LinearRegression()\n",
    "model.fit(X,y)"
   ]
  },
  {
   "cell_type": "code",
   "execution_count": 6,
   "id": "74a7d869",
   "metadata": {},
   "outputs": [
    {
     "name": "stdout",
     "output_type": "stream",
     "text": [
      "theta1 = -2.1130659428774066 and theta2 = 0.14402918985400698\n"
     ]
    }
   ],
   "source": [
    "theta1,theta2 = model.coef_   # theta1 and theta2\n",
    "print(f'theta1 = {theta1} and theta2 = {theta2}')"
   ]
  },
  {
   "cell_type": "code",
   "execution_count": 7,
   "id": "413f9f0c",
   "metadata": {},
   "outputs": [
    {
     "name": "stdout",
     "output_type": "stream",
     "text": [
      "theta0 = 349.95047262174114\n"
     ]
    }
   ],
   "source": [
    "theta0 = model.intercept_   # theta0\n",
    "print(f'theta0 = {theta0}')"
   ]
  },
  {
   "cell_type": "code",
   "execution_count": 8,
   "id": "b6410a3d",
   "metadata": {},
   "outputs": [],
   "source": [
    "y_pred = model.predict(X) # prediction for all values"
   ]
  },
  {
   "cell_type": "code",
   "execution_count": 9,
   "id": "eff1b7a1",
   "metadata": {},
   "outputs": [
    {
     "data": {
      "text/plain": [
       "array([465.83497857, 443.659007  , 484.93329046, ..., 429.65929428,\n",
       "       444.24805277, 450.81906105])"
      ]
     },
     "execution_count": 9,
     "metadata": {},
     "output_type": "execute_result"
    }
   ],
   "source": [
    "y_pred"
   ]
  },
  {
   "cell_type": "code",
   "execution_count": 16,
   "id": "35c9744e",
   "metadata": {},
   "outputs": [
    {
     "name": "stdout",
     "output_type": "stream",
     "text": [
      "R2_scores 0.9008123274074772\n",
      "mean_squared_error 28.888595613229647\n",
      "root_mean_squared_error 5.374811216520041\n",
      "mean_absolute_error 4.2781877319852555\n",
      "mean_absolute_percentage_error 0.009454646988296442\n"
     ]
    }
   ],
   "source": [
    "import math\n",
    "from sklearn.metrics import r2_score, mean_squared_error, mean_absolute_error,mean_absolute_percentage_error\n",
    "print(f\"R2_scores {r2_score(y,y_pred)}\")\n",
    "print(f\"mean_squared_error {mean_squared_error(y,y_pred)}\")\n",
    "print(f\"root_mean_squared_error {math.sqrt(mean_squared_error(y,y_pred))}\")\n",
    "print(f\"mean_absolute_error {mean_absolute_error(y,y_pred)}\")\n",
    "print(f\"mean_absolute_percentage_error {mean_absolute_percentage_error(y,y_pred)}\")"
   ]
  },
  {
   "cell_type": "markdown",
   "id": "f679c286",
   "metadata": {},
   "source": [
    "---\n",
    "\n",
    "## `Predictor ----------------------------`\n",
    "\n",
    "---"
   ]
  },
  {
   "cell_type": "code",
   "execution_count": 43,
   "id": "b2fd0a95",
   "metadata": {},
   "outputs": [
    {
     "name": "stdout",
     "output_type": "stream",
     "text": [
      "Enter the value of AT: 14.96\n",
      "Enter the value of AP: 1024.07\n",
      "The predicted value y_pred=465.83497857181\n"
     ]
    }
   ],
   "source": [
    "x1 = float(input('Enter the value of AT: '))\n",
    "x2 = float(input('Enter the value of AP: '))\n",
    "y_pred = theta0 + theta1 * x1 + theta2 * x2\n",
    "print(f'The predicted value y_pred={y_pred}')"
   ]
  },
  {
   "cell_type": "markdown",
   "id": "6f471c79",
   "metadata": {},
   "source": [
    "## 2. `Multiple Linear Regression - Normal equation`"
   ]
  },
  {
   "cell_type": "code",
   "execution_count": null,
   "id": "4ed6dd6b",
   "metadata": {},
   "outputs": [],
   "source": [
    "import numpy as np"
   ]
  },
  {
   "cell_type": "code",
   "execution_count": null,
   "id": "e51b7713",
   "metadata": {},
   "outputs": [],
   "source": [
    "X.insert(0, 'x0', 1)"
   ]
  },
  {
   "cell_type": "code",
   "execution_count": null,
   "id": "0954ccb2",
   "metadata": {},
   "outputs": [],
   "source": [
    "X"
   ]
  },
  {
   "cell_type": "code",
   "execution_count": null,
   "id": "3aa4793a",
   "metadata": {},
   "outputs": [],
   "source": [
    "X_matrix = X.values\n",
    "y_matrix = y.values"
   ]
  },
  {
   "cell_type": "code",
   "execution_count": null,
   "id": "d139f3bd",
   "metadata": {},
   "outputs": [],
   "source": [
    "X_matrix"
   ]
  },
  {
   "cell_type": "code",
   "execution_count": null,
   "id": "1d315f36",
   "metadata": {},
   "outputs": [],
   "source": [
    "# normal equation\n",
    "a = np.linalg.inv(np.matmul(X_matrix.T,X_matrix))\n",
    "b = np.matmul(X_matrix.T,y_matrix)\n",
    "theta0, theta1, theta2 = np.matmul(a,b)\n",
    "print(f'theta0 = {theta0}')\n",
    "print(f'theta1 = {theta1}')\n",
    "print(f'theta2 = {theta2}')"
   ]
  },
  {
   "cell_type": "code",
   "execution_count": null,
   "id": "7f6b115f",
   "metadata": {},
   "outputs": [],
   "source": [
    "y_pred = np.matmul(theta, X.T )"
   ]
  },
  {
   "cell_type": "code",
   "execution_count": 60,
   "id": "3fc0d60d",
   "metadata": {},
   "outputs": [
    {
     "name": "stdout",
     "output_type": "stream",
     "text": [
      "R2_scores 0.9008123274074772\n",
      "mean_squared_error 28.88859561322964\n",
      "root_mean_squared_error 5.37481121652004\n"
     ]
    }
   ],
   "source": [
    "import math\n",
    "from sklearn.metrics import r2_score, mean_squared_error, me\n",
    "print(f\"R2_scores {r2_score(y,y_pred)}\")\n",
    "print(f\"mean_squared_error {mean_squared_error(y,y_pred)}\")\n",
    "print(f\"root_mean_squared_error {math.sqrt(mean_squared_error(y,y_pred))}\")\n",
    "print(f\"mean_absolute_error {math.sqrt(mean_squared_error(y,y_pred))}\")"
   ]
  },
  {
   "cell_type": "markdown",
   "id": "443fadcc",
   "metadata": {},
   "source": [
    "---\n",
    "\n",
    "## `Predictor ----------------------------`\n",
    "\n",
    "---"
   ]
  },
  {
   "cell_type": "code",
   "execution_count": 44,
   "id": "73d0a12b",
   "metadata": {},
   "outputs": [
    {
     "name": "stdout",
     "output_type": "stream",
     "text": [
      "Enter the value of AT: 14.96\n",
      "Enter the value of AP: 1024.07\n",
      "The predicted value y_pred=465.83497857181\n"
     ]
    }
   ],
   "source": [
    "x1 = float(input('Enter the value of AT: '))\n",
    "x2 = float(input('Enter the value of AP: '))\n",
    "y_pred = theta0 * 1 + theta1 * x1 + theta2 * x2\n",
    "print(f'The predicted value y_pred={y_pred}')"
   ]
  },
  {
   "cell_type": "markdown",
   "id": "579cb336",
   "metadata": {},
   "source": [
    "---\n",
    "\n",
    "### `correction -------------------------`\n",
    "#### you have not added x0 column to X, to have theta0, theta1, theta2 ??\n",
    "\n",
    "---"
   ]
  },
  {
   "cell_type": "markdown",
   "id": "1904b409",
   "metadata": {},
   "source": [
    "## 3. `Multiple Linear Regression - ols (ordinary least square ) using statsmodel`"
   ]
  },
  {
   "cell_type": "code",
   "execution_count": 31,
   "id": "b8768d6e",
   "metadata": {},
   "outputs": [],
   "source": [
    "import statsmodels.api as sm"
   ]
  },
  {
   "cell_type": "code",
   "execution_count": 32,
   "id": "7f70488f",
   "metadata": {},
   "outputs": [
    {
     "data": {
      "text/html": [
       "<div>\n",
       "<style scoped>\n",
       "    .dataframe tbody tr th:only-of-type {\n",
       "        vertical-align: middle;\n",
       "    }\n",
       "\n",
       "    .dataframe tbody tr th {\n",
       "        vertical-align: top;\n",
       "    }\n",
       "\n",
       "    .dataframe thead th {\n",
       "        text-align: right;\n",
       "    }\n",
       "</style>\n",
       "<table border=\"1\" class=\"dataframe\">\n",
       "  <thead>\n",
       "    <tr style=\"text-align: right;\">\n",
       "      <th></th>\n",
       "      <th>AT</th>\n",
       "      <th>AP</th>\n",
       "    </tr>\n",
       "  </thead>\n",
       "  <tbody>\n",
       "    <tr>\n",
       "      <th>0</th>\n",
       "      <td>14.96</td>\n",
       "      <td>1024.07</td>\n",
       "    </tr>\n",
       "    <tr>\n",
       "      <th>1</th>\n",
       "      <td>25.18</td>\n",
       "      <td>1020.04</td>\n",
       "    </tr>\n",
       "    <tr>\n",
       "      <th>2</th>\n",
       "      <td>5.11</td>\n",
       "      <td>1012.16</td>\n",
       "    </tr>\n",
       "    <tr>\n",
       "      <th>3</th>\n",
       "      <td>20.86</td>\n",
       "      <td>1010.24</td>\n",
       "    </tr>\n",
       "    <tr>\n",
       "      <th>4</th>\n",
       "      <td>10.82</td>\n",
       "      <td>1009.23</td>\n",
       "    </tr>\n",
       "    <tr>\n",
       "      <th>...</th>\n",
       "      <td>...</td>\n",
       "      <td>...</td>\n",
       "    </tr>\n",
       "    <tr>\n",
       "      <th>9563</th>\n",
       "      <td>16.65</td>\n",
       "      <td>1014.01</td>\n",
       "    </tr>\n",
       "    <tr>\n",
       "      <th>9564</th>\n",
       "      <td>13.19</td>\n",
       "      <td>1023.67</td>\n",
       "    </tr>\n",
       "    <tr>\n",
       "      <th>9565</th>\n",
       "      <td>31.32</td>\n",
       "      <td>1012.92</td>\n",
       "    </tr>\n",
       "    <tr>\n",
       "      <th>9566</th>\n",
       "      <td>24.48</td>\n",
       "      <td>1013.86</td>\n",
       "    </tr>\n",
       "    <tr>\n",
       "      <th>9567</th>\n",
       "      <td>21.60</td>\n",
       "      <td>1017.23</td>\n",
       "    </tr>\n",
       "  </tbody>\n",
       "</table>\n",
       "<p>9568 rows × 2 columns</p>\n",
       "</div>"
      ],
      "text/plain": [
       "         AT       AP\n",
       "0     14.96  1024.07\n",
       "1     25.18  1020.04\n",
       "2      5.11  1012.16\n",
       "3     20.86  1010.24\n",
       "4     10.82  1009.23\n",
       "...     ...      ...\n",
       "9563  16.65  1014.01\n",
       "9564  13.19  1023.67\n",
       "9565  31.32  1012.92\n",
       "9566  24.48  1013.86\n",
       "9567  21.60  1017.23\n",
       "\n",
       "[9568 rows x 2 columns]"
      ]
     },
     "execution_count": 32,
     "metadata": {},
     "output_type": "execute_result"
    }
   ],
   "source": [
    "X = data[['AT','AP']]\n",
    "X"
   ]
  },
  {
   "cell_type": "code",
   "execution_count": 34,
   "id": "5956e64b",
   "metadata": {},
   "outputs": [
    {
     "data": {
      "text/html": [
       "<div>\n",
       "<style scoped>\n",
       "    .dataframe tbody tr th:only-of-type {\n",
       "        vertical-align: middle;\n",
       "    }\n",
       "\n",
       "    .dataframe tbody tr th {\n",
       "        vertical-align: top;\n",
       "    }\n",
       "\n",
       "    .dataframe thead th {\n",
       "        text-align: right;\n",
       "    }\n",
       "</style>\n",
       "<table border=\"1\" class=\"dataframe\">\n",
       "  <thead>\n",
       "    <tr style=\"text-align: right;\">\n",
       "      <th></th>\n",
       "      <th>const</th>\n",
       "      <th>AT</th>\n",
       "      <th>AP</th>\n",
       "    </tr>\n",
       "  </thead>\n",
       "  <tbody>\n",
       "    <tr>\n",
       "      <th>0</th>\n",
       "      <td>1.0</td>\n",
       "      <td>14.96</td>\n",
       "      <td>1024.07</td>\n",
       "    </tr>\n",
       "    <tr>\n",
       "      <th>1</th>\n",
       "      <td>1.0</td>\n",
       "      <td>25.18</td>\n",
       "      <td>1020.04</td>\n",
       "    </tr>\n",
       "    <tr>\n",
       "      <th>2</th>\n",
       "      <td>1.0</td>\n",
       "      <td>5.11</td>\n",
       "      <td>1012.16</td>\n",
       "    </tr>\n",
       "    <tr>\n",
       "      <th>3</th>\n",
       "      <td>1.0</td>\n",
       "      <td>20.86</td>\n",
       "      <td>1010.24</td>\n",
       "    </tr>\n",
       "    <tr>\n",
       "      <th>4</th>\n",
       "      <td>1.0</td>\n",
       "      <td>10.82</td>\n",
       "      <td>1009.23</td>\n",
       "    </tr>\n",
       "  </tbody>\n",
       "</table>\n",
       "</div>"
      ],
      "text/plain": [
       "   const     AT       AP\n",
       "0    1.0  14.96  1024.07\n",
       "1    1.0  25.18  1020.04\n",
       "2    1.0   5.11  1012.16\n",
       "3    1.0  20.86  1010.24\n",
       "4    1.0  10.82  1009.23"
      ]
     },
     "execution_count": 34,
     "metadata": {},
     "output_type": "execute_result"
    }
   ],
   "source": [
    "X = sm.add_constant(X)\n",
    "X.head()"
   ]
  },
  {
   "cell_type": "code",
   "execution_count": 35,
   "id": "656a7841",
   "metadata": {},
   "outputs": [
    {
     "data": {
      "text/html": [
       "<div>\n",
       "<style scoped>\n",
       "    .dataframe tbody tr th:only-of-type {\n",
       "        vertical-align: middle;\n",
       "    }\n",
       "\n",
       "    .dataframe tbody tr th {\n",
       "        vertical-align: top;\n",
       "    }\n",
       "\n",
       "    .dataframe thead th {\n",
       "        text-align: right;\n",
       "    }\n",
       "</style>\n",
       "<table border=\"1\" class=\"dataframe\">\n",
       "  <thead>\n",
       "    <tr style=\"text-align: right;\">\n",
       "      <th></th>\n",
       "      <th>const</th>\n",
       "      <th>AT</th>\n",
       "      <th>AP</th>\n",
       "    </tr>\n",
       "  </thead>\n",
       "  <tbody>\n",
       "    <tr>\n",
       "      <th>0</th>\n",
       "      <td>1.0</td>\n",
       "      <td>14.96</td>\n",
       "      <td>1024.07</td>\n",
       "    </tr>\n",
       "    <tr>\n",
       "      <th>1</th>\n",
       "      <td>1.0</td>\n",
       "      <td>25.18</td>\n",
       "      <td>1020.04</td>\n",
       "    </tr>\n",
       "    <tr>\n",
       "      <th>2</th>\n",
       "      <td>1.0</td>\n",
       "      <td>5.11</td>\n",
       "      <td>1012.16</td>\n",
       "    </tr>\n",
       "    <tr>\n",
       "      <th>3</th>\n",
       "      <td>1.0</td>\n",
       "      <td>20.86</td>\n",
       "      <td>1010.24</td>\n",
       "    </tr>\n",
       "    <tr>\n",
       "      <th>4</th>\n",
       "      <td>1.0</td>\n",
       "      <td>10.82</td>\n",
       "      <td>1009.23</td>\n",
       "    </tr>\n",
       "    <tr>\n",
       "      <th>...</th>\n",
       "      <td>...</td>\n",
       "      <td>...</td>\n",
       "      <td>...</td>\n",
       "    </tr>\n",
       "    <tr>\n",
       "      <th>9563</th>\n",
       "      <td>1.0</td>\n",
       "      <td>16.65</td>\n",
       "      <td>1014.01</td>\n",
       "    </tr>\n",
       "    <tr>\n",
       "      <th>9564</th>\n",
       "      <td>1.0</td>\n",
       "      <td>13.19</td>\n",
       "      <td>1023.67</td>\n",
       "    </tr>\n",
       "    <tr>\n",
       "      <th>9565</th>\n",
       "      <td>1.0</td>\n",
       "      <td>31.32</td>\n",
       "      <td>1012.92</td>\n",
       "    </tr>\n",
       "    <tr>\n",
       "      <th>9566</th>\n",
       "      <td>1.0</td>\n",
       "      <td>24.48</td>\n",
       "      <td>1013.86</td>\n",
       "    </tr>\n",
       "    <tr>\n",
       "      <th>9567</th>\n",
       "      <td>1.0</td>\n",
       "      <td>21.60</td>\n",
       "      <td>1017.23</td>\n",
       "    </tr>\n",
       "  </tbody>\n",
       "</table>\n",
       "<p>9568 rows × 3 columns</p>\n",
       "</div>"
      ],
      "text/plain": [
       "      const     AT       AP\n",
       "0       1.0  14.96  1024.07\n",
       "1       1.0  25.18  1020.04\n",
       "2       1.0   5.11  1012.16\n",
       "3       1.0  20.86  1010.24\n",
       "4       1.0  10.82  1009.23\n",
       "...     ...    ...      ...\n",
       "9563    1.0  16.65  1014.01\n",
       "9564    1.0  13.19  1023.67\n",
       "9565    1.0  31.32  1012.92\n",
       "9566    1.0  24.48  1013.86\n",
       "9567    1.0  21.60  1017.23\n",
       "\n",
       "[9568 rows x 3 columns]"
      ]
     },
     "execution_count": 35,
     "metadata": {},
     "output_type": "execute_result"
    }
   ],
   "source": [
    "X"
   ]
  },
  {
   "cell_type": "code",
   "execution_count": 36,
   "id": "e34dcc85",
   "metadata": {},
   "outputs": [
    {
     "data": {
      "text/plain": [
       "0       463.26\n",
       "1       444.37\n",
       "2       488.56\n",
       "3       446.48\n",
       "4       473.90\n",
       "         ...  \n",
       "9563    460.03\n",
       "9564    469.62\n",
       "9565    429.57\n",
       "9566    435.74\n",
       "9567    453.28\n",
       "Name: PE, Length: 9568, dtype: float64"
      ]
     },
     "execution_count": 36,
     "metadata": {},
     "output_type": "execute_result"
    }
   ],
   "source": [
    "y"
   ]
  },
  {
   "cell_type": "code",
   "execution_count": 37,
   "id": "14f3d2a7",
   "metadata": {},
   "outputs": [],
   "source": [
    "model = OLS(y,X)\n",
    "results = model.fit()"
   ]
  },
  {
   "cell_type": "code",
   "execution_count": 38,
   "id": "99d723cc",
   "metadata": {},
   "outputs": [
    {
     "data": {
      "text/plain": [
       "const    349.950473\n",
       "AT        -2.113066\n",
       "AP         0.144029\n",
       "dtype: float64"
      ]
     },
     "execution_count": 38,
     "metadata": {},
     "output_type": "execute_result"
    }
   ],
   "source": [
    "results.params"
   ]
  },
  {
   "cell_type": "code",
   "execution_count": 39,
   "id": "e895d969",
   "metadata": {},
   "outputs": [],
   "source": [
    "theta0 = 349.9504726231098\n",
    "theta1 = -2.1130659428763465\n",
    "theta2 = 0.14402918985433644"
   ]
  },
  {
   "cell_type": "code",
   "execution_count": 41,
   "id": "87bc1c49",
   "metadata": {},
   "outputs": [
    {
     "data": {
      "text/plain": [
       "0       465.834979\n",
       "1       443.659007\n",
       "2       484.933290\n",
       "3       451.375966\n",
       "4       472.445678\n",
       "           ...    \n",
       "9563    460.814963\n",
       "9564    469.517494\n",
       "9565    429.659294\n",
       "9566    444.248053\n",
       "9567    450.819061\n",
       "Length: 9568, dtype: float64"
      ]
     },
     "execution_count": 41,
     "metadata": {},
     "output_type": "execute_result"
    }
   ],
   "source": [
    "y_pred = results.predict(X)\n",
    "y_pred"
   ]
  },
  {
   "cell_type": "markdown",
   "id": "180acda3",
   "metadata": {},
   "source": [
    "### model summary"
   ]
  },
  {
   "cell_type": "code",
   "execution_count": 40,
   "id": "7b197d4a",
   "metadata": {},
   "outputs": [
    {
     "data": {
      "text/html": [
       "<table class=\"simpletable\">\n",
       "<caption>OLS Regression Results</caption>\n",
       "<tr>\n",
       "  <th>Dep. Variable:</th>           <td>PE</td>        <th>  R-squared:         </th> <td>   0.901</td> \n",
       "</tr>\n",
       "<tr>\n",
       "  <th>Model:</th>                   <td>OLS</td>       <th>  Adj. R-squared:    </th> <td>   0.901</td> \n",
       "</tr>\n",
       "<tr>\n",
       "  <th>Method:</th>             <td>Least Squares</td>  <th>  F-statistic:       </th> <td>4.343e+04</td>\n",
       "</tr>\n",
       "<tr>\n",
       "  <th>Date:</th>             <td>Wed, 18 Aug 2021</td> <th>  Prob (F-statistic):</th>  <td>  0.00</td>  \n",
       "</tr>\n",
       "<tr>\n",
       "  <th>Time:</th>                 <td>19:47:16</td>     <th>  Log-Likelihood:    </th> <td> -29667.</td> \n",
       "</tr>\n",
       "<tr>\n",
       "  <th>No. Observations:</th>      <td>  9568</td>      <th>  AIC:               </th> <td>5.934e+04</td>\n",
       "</tr>\n",
       "<tr>\n",
       "  <th>Df Residuals:</th>          <td>  9565</td>      <th>  BIC:               </th> <td>5.936e+04</td>\n",
       "</tr>\n",
       "<tr>\n",
       "  <th>Df Model:</th>              <td>     2</td>      <th>                     </th>     <td> </td>    \n",
       "</tr>\n",
       "<tr>\n",
       "  <th>Covariance Type:</th>      <td>nonrobust</td>    <th>                     </th>     <td> </td>    \n",
       "</tr>\n",
       "</table>\n",
       "<table class=\"simpletable\">\n",
       "<tr>\n",
       "    <td></td>       <th>coef</th>     <th>std err</th>      <th>t</th>      <th>P>|t|</th>  <th>[0.025</th>    <th>0.975]</th>  \n",
       "</tr>\n",
       "<tr>\n",
       "  <th>const</th> <td>  349.9505</td> <td>   10.969</td> <td>   31.902</td> <td> 0.000</td> <td>  328.448</td> <td>  371.453</td>\n",
       "</tr>\n",
       "<tr>\n",
       "  <th>AT</th>    <td>   -2.1131</td> <td>    0.009</td> <td> -246.881</td> <td> 0.000</td> <td>   -2.130</td> <td>   -2.096</td>\n",
       "</tr>\n",
       "<tr>\n",
       "  <th>AP</th>    <td>    0.1440</td> <td>    0.011</td> <td>   13.410</td> <td> 0.000</td> <td>    0.123</td> <td>    0.165</td>\n",
       "</tr>\n",
       "</table>\n",
       "<table class=\"simpletable\">\n",
       "<tr>\n",
       "  <th>Omnibus:</th>       <td>402.309</td> <th>  Durbin-Watson:     </th> <td>   2.034</td> \n",
       "</tr>\n",
       "<tr>\n",
       "  <th>Prob(Omnibus):</th> <td> 0.000</td>  <th>  Jarque-Bera (JB):  </th> <td>1056.990</td> \n",
       "</tr>\n",
       "<tr>\n",
       "  <th>Skew:</th>          <td>-0.204</td>  <th>  Prob(JB):          </th> <td>3.00e-230</td>\n",
       "</tr>\n",
       "<tr>\n",
       "  <th>Kurtosis:</th>      <td> 4.577</td>  <th>  Cond. No.          </th> <td>2.02e+05</td> \n",
       "</tr>\n",
       "</table><br/><br/>Notes:<br/>[1] Standard Errors assume that the covariance matrix of the errors is correctly specified.<br/>[2] The condition number is large, 2.02e+05. This might indicate that there are<br/>strong multicollinearity or other numerical problems."
      ],
      "text/plain": [
       "<class 'statsmodels.iolib.summary.Summary'>\n",
       "\"\"\"\n",
       "                            OLS Regression Results                            \n",
       "==============================================================================\n",
       "Dep. Variable:                     PE   R-squared:                       0.901\n",
       "Model:                            OLS   Adj. R-squared:                  0.901\n",
       "Method:                 Least Squares   F-statistic:                 4.343e+04\n",
       "Date:                Wed, 18 Aug 2021   Prob (F-statistic):               0.00\n",
       "Time:                        19:47:16   Log-Likelihood:                -29667.\n",
       "No. Observations:                9568   AIC:                         5.934e+04\n",
       "Df Residuals:                    9565   BIC:                         5.936e+04\n",
       "Df Model:                           2                                         \n",
       "Covariance Type:            nonrobust                                         \n",
       "==============================================================================\n",
       "                 coef    std err          t      P>|t|      [0.025      0.975]\n",
       "------------------------------------------------------------------------------\n",
       "const        349.9505     10.969     31.902      0.000     328.448     371.453\n",
       "AT            -2.1131      0.009   -246.881      0.000      -2.130      -2.096\n",
       "AP             0.1440      0.011     13.410      0.000       0.123       0.165\n",
       "==============================================================================\n",
       "Omnibus:                      402.309   Durbin-Watson:                   2.034\n",
       "Prob(Omnibus):                  0.000   Jarque-Bera (JB):             1056.990\n",
       "Skew:                          -0.204   Prob(JB):                    3.00e-230\n",
       "Kurtosis:                       4.577   Cond. No.                     2.02e+05\n",
       "==============================================================================\n",
       "\n",
       "Notes:\n",
       "[1] Standard Errors assume that the covariance matrix of the errors is correctly specified.\n",
       "[2] The condition number is large, 2.02e+05. This might indicate that there are\n",
       "strong multicollinearity or other numerical problems.\n",
       "\"\"\""
      ]
     },
     "execution_count": 40,
     "metadata": {},
     "output_type": "execute_result"
    }
   ],
   "source": [
    "results.summary()"
   ]
  },
  {
   "cell_type": "markdown",
   "id": "53646cf6",
   "metadata": {},
   "source": [
    "---\n",
    "\n",
    "## `Predictor ----------------------------`\n",
    "\n",
    "---"
   ]
  },
  {
   "cell_type": "code",
   "execution_count": 45,
   "id": "64c21bb7",
   "metadata": {},
   "outputs": [
    {
     "name": "stdout",
     "output_type": "stream",
     "text": [
      "Enter the value of AT: 14.96\n",
      "Enter the value of AP: 1024.07\n",
      "The predicted value y_pred=465.83497857181\n"
     ]
    }
   ],
   "source": [
    "x1 = float(input('Enter the value of AT: '))\n",
    "x2 = float(input('Enter the value of AP: '))\n",
    "y_pred = theta0 * 1 + theta1 * x1 + theta2 * x2\n",
    "print(f'The predicted value y_pred={y_pred}')"
   ]
  },
  {
   "cell_type": "markdown",
   "id": "f986ed45",
   "metadata": {},
   "source": [
    "## END `------------------------`"
   ]
  }
 ],
 "metadata": {
  "kernelspec": {
   "display_name": "Python 3",
   "language": "python",
   "name": "python3"
  },
  "language_info": {
   "codemirror_mode": {
    "name": "ipython",
    "version": 3
   },
   "file_extension": ".py",
   "mimetype": "text/x-python",
   "name": "python",
   "nbconvert_exporter": "python",
   "pygments_lexer": "ipython3",
   "version": "3.8.8"
  }
 },
 "nbformat": 4,
 "nbformat_minor": 5
}
