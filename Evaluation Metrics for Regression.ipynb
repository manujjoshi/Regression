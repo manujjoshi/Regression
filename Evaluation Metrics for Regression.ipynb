{
 "cells": [
  {
   "cell_type": "markdown",
   "id": "a0ece46f",
   "metadata": {},
   "source": [
    "---\n",
    "\n",
    "# `Evaluation Metrics for Regression`\n",
    "\n",
    "---"
   ]
  },
  {
   "cell_type": "code",
   "execution_count": 107,
   "id": "eefcc024",
   "metadata": {},
   "outputs": [],
   "source": [
    "import pandas as pd\n",
    "import seaborn as sns\n",
    "import matplotlib.pyplot as plt\n",
    "import warnings\n",
    "warnings.filterwarnings('ignore')\n",
    "import numpy as np"
   ]
  },
  {
   "cell_type": "code",
   "execution_count": 108,
   "id": "8f88e25e",
   "metadata": {},
   "outputs": [],
   "source": [
    "data = pd.read_excel(\"Folds5x2_pp.xlsx\")"
   ]
  },
  {
   "cell_type": "code",
   "execution_count": 109,
   "id": "cee9a464",
   "metadata": {},
   "outputs": [],
   "source": [
    "X = data[[\"AT\",\"AP\"]]\n",
    "y = data[\"PE\"]"
   ]
  },
  {
   "cell_type": "code",
   "execution_count": 110,
   "id": "a7c0f1fc",
   "metadata": {},
   "outputs": [
    {
     "name": "stdout",
     "output_type": "stream",
     "text": [
      "9568\n",
      "9568\n"
     ]
    }
   ],
   "source": [
    "print(len(X))\n",
    "print(len(y))"
   ]
  },
  {
   "cell_type": "code",
   "execution_count": 111,
   "id": "798a2344",
   "metadata": {},
   "outputs": [
    {
     "data": {
      "text/plain": [
       "LinearRegression()"
      ]
     },
     "execution_count": 111,
     "metadata": {},
     "output_type": "execute_result"
    }
   ],
   "source": [
    "from sklearn.linear_model import LinearRegression\n",
    "model = LinearRegression()\n",
    "model.fit(X,y)"
   ]
  },
  {
   "cell_type": "code",
   "execution_count": 112,
   "id": "edefbc09",
   "metadata": {},
   "outputs": [
    {
     "name": "stdout",
     "output_type": "stream",
     "text": [
      "theta1 = -2.1130659428774066 and theta2 = 0.14402918985400698\n"
     ]
    }
   ],
   "source": [
    "theta1,theta2 = model.coef_   # theta1 and theta2\n",
    "print(f'theta1 = {theta1} and theta2 = {theta2}')"
   ]
  },
  {
   "cell_type": "code",
   "execution_count": 113,
   "id": "e15114bf",
   "metadata": {},
   "outputs": [
    {
     "name": "stdout",
     "output_type": "stream",
     "text": [
      "theta0 = 349.95047262174114\n"
     ]
    }
   ],
   "source": [
    "theta0 = model.intercept_   # theta0\n",
    "print(f'theta0 = {theta0}')"
   ]
  },
  {
   "cell_type": "code",
   "execution_count": 114,
   "id": "b5ec48ab",
   "metadata": {},
   "outputs": [],
   "source": [
    "y_pred = model.predict(X) # prediction for all values"
   ]
  },
  {
   "cell_type": "code",
   "execution_count": 115,
   "id": "d0c40c58",
   "metadata": {},
   "outputs": [
    {
     "data": {
      "text/plain": [
       "array([465.83497857, 443.659007  , 484.93329046, ..., 429.65929428,\n",
       "       444.24805277, 450.81906105])"
      ]
     },
     "execution_count": 115,
     "metadata": {},
     "output_type": "execute_result"
    }
   ],
   "source": [
    "y_pred"
   ]
  },
  {
   "cell_type": "markdown",
   "id": "25a68648",
   "metadata": {},
   "source": [
    "### SST"
   ]
  },
  {
   "cell_type": "code",
   "execution_count": 116,
   "id": "bbead869",
   "metadata": {},
   "outputs": [
    {
     "data": {
      "text/plain": [
       "2786697.9393991544"
      ]
     },
     "execution_count": 116,
     "metadata": {},
     "output_type": "execute_result"
    }
   ],
   "source": [
    "sum1 = 0\n",
    "for i in y:\n",
    "    sum1 = sum1 + (i - y.mean()) ** 2\n",
    "SST = sum1\n",
    "SST"
   ]
  },
  {
   "cell_type": "markdown",
   "id": "7efff193",
   "metadata": {},
   "source": [
    "### SSE"
   ]
  },
  {
   "cell_type": "code",
   "execution_count": 117,
   "id": "a073dedc",
   "metadata": {},
   "outputs": [
    {
     "data": {
      "text/plain": [
       "276406.08282738156"
      ]
     },
     "execution_count": 117,
     "metadata": {},
     "output_type": "execute_result"
    }
   ],
   "source": [
    "sum2 = 0\n",
    "for i in range(len(y)):\n",
    "    sum2 = sum2 + (y[i] - y_pred[i] ) ** 2\n",
    "SSE = sum2\n",
    "SSE"
   ]
  },
  {
   "cell_type": "markdown",
   "id": "39456e45",
   "metadata": {},
   "source": [
    "### SSR"
   ]
  },
  {
   "cell_type": "code",
   "execution_count": 118,
   "id": "2963dbc0",
   "metadata": {},
   "outputs": [
    {
     "data": {
      "text/plain": [
       "2510291.856571764"
      ]
     },
     "execution_count": 118,
     "metadata": {},
     "output_type": "execute_result"
    }
   ],
   "source": [
    "sum3 = 0\n",
    "for i in y_pred:\n",
    "    sum3 = sum3 + (i - y.mean() ) ** 2\n",
    "SSR = sum3\n",
    "SSR"
   ]
  },
  {
   "cell_type": "markdown",
   "id": "03c11f09",
   "metadata": {},
   "source": [
    "## `R2 ( Coefficient of determination )   SSR / SST or 1 - SSE/SST` ***\n",
    "> - How much accurate regression line is"
   ]
  },
  {
   "cell_type": "code",
   "execution_count": 119,
   "id": "2d767af2",
   "metadata": {},
   "outputs": [
    {
     "data": {
      "text/plain": [
       "0.900812327407474"
      ]
     },
     "execution_count": 119,
     "metadata": {},
     "output_type": "execute_result"
    }
   ],
   "source": [
    "R2 = SSR / SST\n",
    "R2"
   ]
  },
  {
   "cell_type": "markdown",
   "id": "b2aef4a0",
   "metadata": {},
   "source": [
    "## `Mean Squared Error ( MSE )` ***"
   ]
  },
  {
   "cell_type": "code",
   "execution_count": 120,
   "id": "bf03d781",
   "metadata": {},
   "outputs": [
    {
     "data": {
      "text/plain": [
       "28.88859561322968"
      ]
     },
     "execution_count": 120,
     "metadata": {},
     "output_type": "execute_result"
    }
   ],
   "source": [
    "MSE = SSE / len(X)\n",
    "MSE"
   ]
  },
  {
   "cell_type": "markdown",
   "id": "65b5cf54",
   "metadata": {},
   "source": [
    "## `Root Mean Squared Error ( RMSE )` ***"
   ]
  },
  {
   "cell_type": "code",
   "execution_count": 121,
   "id": "8b51a895",
   "metadata": {},
   "outputs": [
    {
     "data": {
      "text/plain": [
       "5.374811216520045"
      ]
     },
     "execution_count": 121,
     "metadata": {},
     "output_type": "execute_result"
    }
   ],
   "source": [
    "RMSE = np.sqrt(MSE)\n",
    "RMSE"
   ]
  },
  {
   "cell_type": "markdown",
   "id": "22cc9bc8",
   "metadata": {},
   "source": [
    "## `Mean Absolute Error ( MAE )`"
   ]
  },
  {
   "cell_type": "code",
   "execution_count": 122,
   "id": "fe4310cb",
   "metadata": {},
   "outputs": [
    {
     "data": {
      "text/plain": [
       "40933.70021963503"
      ]
     },
     "execution_count": 122,
     "metadata": {},
     "output_type": "execute_result"
    }
   ],
   "source": [
    "sum4 = 0\n",
    "for i in range(len(y)):\n",
    "    sum4 = sum4 + np.abs((y[i] - y_pred[i] )) # in finding absolute error we didn't square\n",
    "SSe = sum4\n",
    "SSe"
   ]
  },
  {
   "cell_type": "code",
   "execution_count": 123,
   "id": "df699cda",
   "metadata": {},
   "outputs": [
    {
     "data": {
      "text/plain": [
       "4.278187731985266"
      ]
     },
     "execution_count": 123,
     "metadata": {},
     "output_type": "execute_result"
    }
   ],
   "source": [
    "MAE = SSe / len(X)\n",
    "MAE"
   ]
  },
  {
   "cell_type": "markdown",
   "id": "3246def9",
   "metadata": {},
   "source": [
    "## `Mean Absolute Percentage Error ( MAPE )`"
   ]
  },
  {
   "cell_type": "code",
   "execution_count": 124,
   "id": "a44d9f60",
   "metadata": {},
   "outputs": [
    {
     "data": {
      "text/plain": [
       "0.945464698829643"
      ]
     },
     "execution_count": 124,
     "metadata": {},
     "output_type": "execute_result"
    }
   ],
   "source": [
    "sum5 = 0\n",
    "for i in range(len(y)):\n",
    "    sum5 = sum5 + np.abs((y[i] - y_pred[i] ) / y[i]) # in finding absolute error we didn't square\n",
    "MAPE = sum5 * 100 / len(y)\n",
    "MAPE  # gives in percent"
   ]
  },
  {
   "cell_type": "markdown",
   "id": "c8004dd9",
   "metadata": {},
   "source": [
    "#### .94 % or .094 of the data are error"
   ]
  },
  {
   "cell_type": "markdown",
   "id": "8cf60974",
   "metadata": {},
   "source": [
    "## `Mean Percentage Error ( MPE )`"
   ]
  },
  {
   "cell_type": "code",
   "execution_count": 125,
   "id": "876d0601",
   "metadata": {},
   "outputs": [
    {
     "data": {
      "text/plain": [
       "-0.013775875885930136"
      ]
     },
     "execution_count": 125,
     "metadata": {},
     "output_type": "execute_result"
    }
   ],
   "source": [
    "sum6 = 0\n",
    "for i in range(len(y)):\n",
    "    sum6 = sum6 + (y[i] - y_pred[i] ) / y[i] \n",
    "MPE = sum6 * 100 / len(y)\n",
    "MPE  # gives in percent"
   ]
  },
  {
   "cell_type": "markdown",
   "id": "20c3bf97",
   "metadata": {},
   "source": [
    "## `Adjusted R2` ***"
   ]
  },
  {
   "cell_type": "code",
   "execution_count": 126,
   "id": "6fc235dd",
   "metadata": {},
   "outputs": [
    {
     "data": {
      "text/plain": [
       "0.9008019586355115"
      ]
     },
     "execution_count": 126,
     "metadata": {},
     "output_type": "execute_result"
    }
   ],
   "source": [
    "k = len(X.columns)   # 2    predictor variables\n",
    "n = len(X)           # 9568   number of observation\n",
    "adjusted_R2 = R2 - ((k - 1)/(n - k) * (1 - R2))\n",
    "adjusted_R2"
   ]
  },
  {
   "cell_type": "markdown",
   "id": "094e44d7",
   "metadata": {},
   "source": [
    "### value of R2"
   ]
  },
  {
   "cell_type": "code",
   "execution_count": 132,
   "id": "b3ed5a0a",
   "metadata": {},
   "outputs": [
    {
     "data": {
      "text/plain": [
       "0.900812327407474"
      ]
     },
     "execution_count": 132,
     "metadata": {},
     "output_type": "execute_result"
    }
   ],
   "source": [
    "R2"
   ]
  },
  {
   "cell_type": "markdown",
   "id": "f4dbc77b",
   "metadata": {},
   "source": [
    "#### Calculated by statsmodel"
   ]
  },
  {
   "cell_type": "code",
   "execution_count": 127,
   "id": "4fa39f58",
   "metadata": {},
   "outputs": [
    {
     "name": "stdout",
     "output_type": "stream",
     "text": [
      "0.9007915876954871\n"
     ]
    }
   ],
   "source": [
    "import statsmodels.api as sm\n",
    "\n",
    "X = sm.add_constant(X)\n",
    "model = sm.OLS(y, X).fit()\n",
    "\n",
    "#display adjusted R-squared\n",
    "print(model.rsquared_adj)"
   ]
  },
  {
   "cell_type": "markdown",
   "id": "c34827cf",
   "metadata": {},
   "source": [
    "---\n",
    "\n",
    "### `Calculating with the help of library`\n",
    "\n",
    "---"
   ]
  },
  {
   "cell_type": "code",
   "execution_count": 130,
   "id": "ed02593d",
   "metadata": {},
   "outputs": [
    {
     "name": "stdout",
     "output_type": "stream",
     "text": [
      "R2_scores 0.9008123274074772\n",
      "mean_squared_error 28.888595613229647\n",
      "root_mean_squared_error 5.374811216520041\n",
      "mean_absolute_error 4.2781877319852555\n",
      "mean_absolute_percentage_error 0.009454646988296442\n"
     ]
    }
   ],
   "source": [
    "import math\n",
    "from sklearn.metrics import r2_score, mean_squared_error, mean_absolute_error,mean_absolute_percentage_error\n",
    "print(f\"R2_scores {r2_score(y,y_pred)}\")\n",
    "print(f\"mean_squared_error {mean_squared_error(y,y_pred)}\")\n",
    "print(f\"root_mean_squared_error {math.sqrt(mean_squared_error(y,y_pred))}\")\n",
    "print(f\"mean_absolute_error {mean_absolute_error(y,y_pred)}\")\n",
    "print(f\"mean_absolute_percentage_error {mean_absolute_percentage_error(y,y_pred)}\")"
   ]
  },
  {
   "cell_type": "markdown",
   "id": "db41edf1",
   "metadata": {},
   "source": [
    "# `END ---------------------------`"
   ]
  }
 ],
 "metadata": {
  "kernelspec": {
   "display_name": "Python 3",
   "language": "python",
   "name": "python3"
  },
  "language_info": {
   "codemirror_mode": {
    "name": "ipython",
    "version": 3
   },
   "file_extension": ".py",
   "mimetype": "text/x-python",
   "name": "python",
   "nbconvert_exporter": "python",
   "pygments_lexer": "ipython3",
   "version": "3.8.8"
  }
 },
 "nbformat": 4,
 "nbformat_minor": 5
}
